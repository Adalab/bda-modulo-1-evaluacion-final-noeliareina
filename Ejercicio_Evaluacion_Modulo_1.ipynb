{
 "cells": [
  {
   "cell_type": "markdown",
   "metadata": {},
   "source": [
    "Ejercicio"
   ]
  },
  {
   "cell_type": "code",
   "execution_count": 66,
   "metadata": {},
   "outputs": [],
   "source": [
    "class TiendaOnline:\n",
    "    \"\"\"TiendaOnline class tiene atributos(inventario y ventas totales)\"\"\"\n",
    "\n",
    "    def __init__(self):\n",
    "        self.inventario = []  # lista vacía para almacenar productos\n",
    "        self.ventas_totales = 0.0  # ventas totales en que inician en 0\n",
    "\n",
    "    # Creamos una función para agregar productos al inventario\n",
    "    def agregar_producto(self, nombre, precio, cantidad):\n",
    "        \"\"\"Agrega un producto al inventario o actualiza su cantidad y precio\"\"\"\n",
    "        # Creamos un diccionario por producto\n",
    "        diccionario_productos = {'nombre': nombre, 'precio': precio, 'cantidad': cantidad}\n",
    "\n",
    "        for producto in self.inventario:\n",
    "            # Iteramos sobre el inventario para ver si el producto ya existe\n",
    "            if producto['nombre'] == nombre:\n",
    "                ##### Actualiza cantidad y precio del producto existente\n",
    "                producto['cantidad'] += cantidad  \n",
    "                producto['precio'] = precio  #Reemplaza el precio existente\n",
    "              \n",
    "                print(f\"Se ha actualizado {nombre}: {cantidad} unidades a {precio} $\")\n",
    "                return # Detiene la función si el producto ya existe\n",
    "            \n",
    "                \n",
    "        # Si el producto no existe, lo agregamos como nuevo\n",
    "        nuevo_producto = {'nombre': nombre, 'precio': precio, 'cantidad': cantidad}\n",
    "        self.inventario.append(nuevo_producto)\n",
    "        print(\"Se ha añadido un nuevo producto:\", {nombre})\n",
    "\n",
    "    # Creamos una función para buscar productos por su nombre en el inventario.\n",
    "    # Queremos que nos muestren los detalles.\n",
    "    def buscar_producto(self, nombre):\n",
    "        for producto in self.inventario:\n",
    "            if producto['nombre'] == nombre:\n",
    "                print(f\"Producto encontrado: {nombre}, sus detalles son {producto}\")\n",
    "                return producto # Devuelve el producto si lo encuentra\n",
    "        if producto['nombre'] != nombre:\n",
    "            print(f\"Producto no encontrado: {nombre}\")\n",
    "    \n",
    "    # Creamos una función para actualizar el stock de un producto en el inventario.\n",
    "    def actualizar_stock(self, nombre, cantidad):\n",
    "        for producto in self.inventario:\n",
    "            if producto['nombre'] == nombre:\n",
    "                producto['cantidad'] += cantidad\n",
    "                print(f\"Se ha actualizado el stock de {nombre} a {producto['cantidad']} unidades\")\n",
    "                return\n",
    "        if producto['nombre'] != nombre:\n",
    "            print(f\"El producto {nombre} no está en el inventario\")\n",
    "\n",
    "    # Creamos una función para eliminar un producto del inventario.\n",
    "    def eliminar_producto(self, nombre):\n",
    "            for producto in self.inventario:\n",
    "                if producto['nombre'] == nombre:\n",
    "                    self.inventario.remove(producto)\n",
    "                    print(f\"Producto eliminado: {nombre}\")\n",
    "                    return\n",
    "            if producto['nombre'] != nombre:\n",
    "                print(f\"El producto {nombre} no está en el inventario\")  \n",
    "\n",
    "    # Creamos una función que nos permita calcular y mostrar el valor total del inventario.\n",
    "    def valor_inventario(self):\n",
    "        valor_total = 0\n",
    "        valor_camisas = 0 # Creando nuevos atributos\n",
    "        valor_calcetines = 0\n",
    "\n",
    "        for producto in self.inventario:\n",
    "            if producto['nombre'] == 'camisa':\n",
    "                self.valor_camisas += producto['precio'] * producto['cantidad']\n",
    "            elif producto['nombre'] == 'calcetines':\n",
    "                self.valor_calcetines += producto['precio'] * producto['cantidad']\n",
    "            valor_total += producto['precio'] * producto['cantidad']\n",
    "\n",
    "        print(f\"El valor total de las camisas es: {valor_camisas} $\")\n",
    "        print(f\"El valor total de los calcetines es: {valor_calcetines} $\")\n",
    "        print(f\"El valor total del inventario es: {valor_total} $\")\n",
    "        \n",
    "        return valor_total\n",
    "\n"
   ]
  },
  {
   "cell_type": "markdown",
   "metadata": {},
   "source": [
    "## Ejercicio 1"
   ]
  },
  {
   "cell_type": "code",
   "execution_count": 67,
   "metadata": {},
   "outputs": [
    {
     "name": "stdout",
     "output_type": "stream",
     "text": [
      "Se ha añadido un nuevo producto: {'camisa'}\n",
      "Se ha añadido un nuevo producto: {'pantalon'}\n",
      "Se ha añadido un nuevo producto: {'zapatos'}\n",
      "Se ha actualizado camisa: 50 unidades a 20 $\n"
     ]
    }
   ],
   "source": [
    "tienda = TiendaOnline()\n",
    "# Agregamos productos al inventario\n",
    "tienda = TiendaOnline()\n",
    "# Agregamos productos al inventario\n",
    "tienda.agregar_producto('camisa', 20, 50)\n",
    "tienda.agregar_producto('pantalon', 30, 30)\n",
    "tienda.agregar_producto('zapatos', 50, 40)\n",
    "\n",
    "# Ahora agregamos un producto repetido\n",
    "tienda.agregar_producto('camisa', 20, 50)"
   ]
  },
  {
   "cell_type": "markdown",
   "metadata": {},
   "source": [
    "## Ejercicio 2"
   ]
  },
  {
   "cell_type": "code",
   "execution_count": 68,
   "metadata": {},
   "outputs": [
    {
     "name": "stdout",
     "output_type": "stream",
     "text": [
      "{'nombre': 'camisa', 'precio': 20, 'cantidad': 100}\n",
      "{'nombre': 'pantalon', 'precio': 30, 'cantidad': 30}\n",
      "{'nombre': 'zapatos', 'precio': 50, 'cantidad': 40}\n"
     ]
    }
   ],
   "source": [
    "# Ahora queremos que nos muestre el inventario de productos con sus valores actuales\n",
    "for producto in tienda.inventario:\n",
    "    print(producto)  # Mostramos el inventario de productos"
   ]
  },
  {
   "cell_type": "markdown",
   "metadata": {},
   "source": [
    "## Ejercicio 3"
   ]
  },
  {
   "cell_type": "code",
   "execution_count": 69,
   "metadata": {},
   "outputs": [
    {
     "name": "stdout",
     "output_type": "stream",
     "text": [
      "Producto encontrado: camisa, sus detalles son {'nombre': 'camisa', 'precio': 20, 'cantidad': 100}\n"
     ]
    },
    {
     "data": {
      "text/plain": [
       "{'nombre': 'camisa', 'precio': 20, 'cantidad': 100}"
      ]
     },
     "execution_count": 69,
     "metadata": {},
     "output_type": "execute_result"
    }
   ],
   "source": [
    "# Se nos solicita una función para buscar productos por su nombre en el inventario y mostrar sus detalles.\n",
    "tienda.buscar_producto('camisa')"
   ]
  },
  {
   "cell_type": "markdown",
   "metadata": {},
   "source": [
    "## Ejercicio 4"
   ]
  },
  {
   "cell_type": "code",
   "execution_count": 70,
   "metadata": {},
   "outputs": [
    {
     "name": "stdout",
     "output_type": "stream",
     "text": [
      "Se ha actualizado el stock de pantalon a 40 unidades\n",
      "El producto wtf no está en el inventario\n"
     ]
    }
   ],
   "source": [
    "# Ahora queremos actualizar el stock de un producto existente. \n",
    "tienda.actualizar_stock('pantalon', 10)\n",
    "tienda.actualizar_stock('wtf', 10)"
   ]
  },
  {
   "cell_type": "markdown",
   "metadata": {},
   "source": [
    "## Ejercicio 5"
   ]
  },
  {
   "cell_type": "code",
   "execution_count": 71,
   "metadata": {},
   "outputs": [
    {
     "name": "stdout",
     "output_type": "stream",
     "text": [
      "Producto eliminado: zapatos\n",
      "El producto who no está en el inventario\n"
     ]
    }
   ],
   "source": [
    "# Lo siguiente es conseguir eliminar un producto del inventario. El procedimiento es similar.\n",
    "tienda.eliminar_producto('zapatos')\n",
    "tienda.__dict__\n",
    "tienda.eliminar_producto('who')"
   ]
  },
  {
   "cell_type": "markdown",
   "metadata": {},
   "source": [
    "## Ejercicio 6"
   ]
  },
  {
   "cell_type": "code",
   "execution_count": 72,
   "metadata": {},
   "outputs": [
    {
     "name": "stdout",
     "output_type": "stream",
     "text": [
      "Se ha actualizado camisa: 5 unidades a 5 $\n",
      "Se ha añadido un nuevo producto: {'calcetines'}\n"
     ]
    },
    {
     "ename": "NameError",
     "evalue": "name 'valor_camisas' is not defined",
     "output_type": "error",
     "traceback": [
      "\u001b[1;31m---------------------------------------------------------------------------\u001b[0m",
      "\u001b[1;31mNameError\u001b[0m                                 Traceback (most recent call last)",
      "Cell \u001b[1;32mIn[72], line 7\u001b[0m\n\u001b[0;32m      4\u001b[0m tienda\u001b[38;5;241m.\u001b[39magregar_producto(\u001b[38;5;124m'\u001b[39m\u001b[38;5;124mcalcetines\u001b[39m\u001b[38;5;124m'\u001b[39m, \u001b[38;5;241m1\u001b[39m, \u001b[38;5;241m10\u001b[39m)\n\u001b[0;32m      5\u001b[0m tienda\u001b[38;5;241m.\u001b[39m\u001b[38;5;18m__dict__\u001b[39m\n\u001b[1;32m----> 7\u001b[0m \u001b[38;5;28mprint\u001b[39m(\u001b[38;5;124mf\u001b[39m\u001b[38;5;124m'\u001b[39m\u001b[38;5;124mEl valor de camisetas es: \u001b[39m\u001b[38;5;132;01m{\u001b[39;00mtienda\u001b[38;5;241m.\u001b[39mvalor_inventario(valor_camisas)\u001b[38;5;132;01m}\u001b[39;00m\u001b[38;5;124m'\u001b[39m)\n\u001b[0;32m      8\u001b[0m \u001b[38;5;28mprint\u001b[39m(\u001b[38;5;124mf\u001b[39m\u001b[38;5;124m'\u001b[39m\u001b[38;5;124mEl valor de calcetines es: \u001b[39m\u001b[38;5;132;01m{\u001b[39;00mtienda\u001b[38;5;241m.\u001b[39mvalor_inventario(valor_calcetines)\u001b[38;5;132;01m}\u001b[39;00m\u001b[38;5;124m'\u001b[39m)\n",
      "\u001b[1;31mNameError\u001b[0m: name 'valor_camisas' is not defined"
     ]
    }
   ],
   "source": [
    "# Vamos a calcular y mostrar el valor del inventario.\n",
    "\n",
    "tienda.agregar_producto('camisa', 5, 5)\n",
    "tienda.agregar_producto('calcetines', 1, 10)\n",
    "tienda.__dict__\n",
    "\n",
    "print(f'El valor de camisetas es: {tienda.valor_inventario(valor_camisas)}')\n",
    "print(f'El valor de calcetines es: {tienda.valor_inventario(valor_calcetines)}')"
   ]
  },
  {
   "cell_type": "markdown",
   "metadata": {},
   "source": [
    "## BONUS"
   ]
  },
  {
   "cell_type": "code",
   "execution_count": null,
   "metadata": {},
   "outputs": [],
   "source": []
  }
 ],
 "metadata": {
  "kernelspec": {
   "display_name": "base",
   "language": "python",
   "name": "python3"
  },
  "language_info": {
   "codemirror_mode": {
    "name": "ipython",
    "version": 3
   },
   "file_extension": ".py",
   "mimetype": "text/x-python",
   "name": "python",
   "nbconvert_exporter": "python",
   "pygments_lexer": "ipython3",
   "version": "3.12.7"
  }
 },
 "nbformat": 4,
 "nbformat_minor": 2
}
