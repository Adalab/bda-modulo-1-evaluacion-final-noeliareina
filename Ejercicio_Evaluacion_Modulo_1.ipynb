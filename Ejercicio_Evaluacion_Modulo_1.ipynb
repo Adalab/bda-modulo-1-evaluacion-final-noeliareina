{
 "cells": [
  {
   "cell_type": "markdown",
   "metadata": {},
   "source": [
    "## Ejercicio de Evaluación Módulo 1"
   ]
  },
  {
   "cell_type": "markdown",
   "metadata": {},
   "source": [
    "Nos solicitan la elaboración de un programa que consiga manipular u observar el inventario de una tienda online, teniendo en cuenta las posibles variaciones de esta."
   ]
  },
  {
   "cell_type": "markdown",
   "metadata": {},
   "source": [
    "Ejercicio 1"
   ]
  },
  {
   "cell_type": "code",
   "execution_count": 264,
   "metadata": {},
   "outputs": [],
   "source": [
    "class TiendaOnline:\n",
    "    \"\"\"TiendaOnline es un tipo de clase con un inventario y ventas totañes\"\"\"\n",
    "\n",
    "# El primer paso, en nuestro código es elaborar los atributos que constituyen la clase.\n",
    "# Luego, creamos los métodos que nos permiten interactuar con los atributos de la clase.\n",
    "# __init__ es un método especial que se ejecuta al crear un objeto de la clase \n",
    "# que asigna valores iniciales a los atributos de la clase.\n",
    "\n",
    "    def __init__(self):\n",
    "        self.inventario = []  # El inventario inicia vacío.\n",
    "        self.ventas_totales = 0.0  # ventas totales en que inician en 0.\n",
    "        self.valor_camisas = 0 # Creando nuevos atributos.\n",
    "        self.valor_calcetines = 0\n",
    "\n",
    "# Hemos creado una clase TiendaOnline con los atributos inventario y ventas_totales.\n",
    "# El inventario es una lista que contiene los productos disponibles en la tienda.\n",
    "\n",
    "# 1. Creamos una función para agregar productos al inventario a continuación:\n",
    "    def agregar_producto(self, nombre, precio, cantidad):\n",
    "        # nombre, precio y cantidad son los parámetros que se pasan a la función.\n",
    "        #ahora,\n",
    "        \"\"\"Agrega un producto al inventario o actualiza su cantidad y precio\"\"\"\n",
    "\n",
    "        # Con el bucle for y la lista de inventario, verificamos si el producto ya existe.\n",
    "        for producto in self.inventario:\n",
    "        # Iteramos sobre el inventario para ver si el producto ya existe.\n",
    "            if producto['nombre'] == nombre:\n",
    "                ##### Actualiza cantidad y precio del producto existente\n",
    "                producto['cantidad'] += cantidad  \n",
    "                producto['precio'] = precio #El precio se suma al precio existente.\n",
    "\n",
    "                # Imprimimos un mensaje para informar al usuario que el producto ha sido actualizado.\n",
    "                print(f\"Se ha actualizado {nombre}: {cantidad} unidades añadidas, precio total {producto['precio']} $\")\n",
    "                return # Salimos de la función siendo actualizado el producto\n",
    "        # Si el producto no existe, lo agregamos como nuevo\n",
    "        nuevo_producto = {'nombre': nombre, 'precio': precio, 'cantidad': cantidad}\n",
    "        self.inventario.append(nuevo_producto)\n",
    "        print(f\"Se ha añadido un nuevo producto: {nombre}: {cantidad} unidades, precio unitario {precio} $\")\n",
    "        \n",
    "        \"\"\" Instrucciones: acceder a Ejercicio 1 y ejecutar la acción\n",
    "          de agregar un producto usando el constructor de la clase\"\"\"\n",
    "        \n",
    "\n",
    "    # 2. Creamos una función para ver el inventario de productos.\n",
    "    # Queremos que nos muestren los detalles.\n",
    "    def ver_inventario(self):  \n",
    "        \n",
    "        if not self.inventario:\n",
    "            print(\"El inventario está vacío\")\n",
    "            return\n",
    "         # Esto significa que si el inventario está vacío, se imprime un mensaje y se detiene la función.\n",
    "        print(\"Inventario de productos:\")\n",
    "        for producto in self.inventario:\n",
    "            print(f\"Producto: {producto['nombre']}, Precio: {producto['precio']} $, Cantidad: {producto['cantidad']} unidades\")\n",
    "            print(f\"El inventario de productos es: {producto}\")\n",
    "         # Esto es para mostrar los detalles de cada producto en el inventario.\n",
    "\n",
    "        \"\"\" Instrucciones: acceder a Ejercicio 2 y ejecutar la acción\n",
    "          de ver el inventario usando el constructor de la clase\"\"\"\n",
    "\n",
    "    # 3. Creamos una función para buscar productos por su nombre en el inventario.\n",
    "    # Queremos que nos muestren los detalles.\n",
    "    def buscar_producto(self, nombre):\n",
    "        for producto in self.inventario:\n",
    "            if producto['nombre'] == nombre:\n",
    "                print(f\"Producto encontrado: {nombre}, sus detalles son {producto}\")\n",
    "            else:\n",
    "                print(f\"Producto no encontrado: {nombre}\")\n",
    "\n",
    "        \"\"\" Instrucciones: acceder a Ejercicio 2 y ejecutar la acción\n",
    "          de buscar en el inventario un producto\"\"\"\n",
    "    \n",
    "    # 4. Creamos una función para actualizar el stock de un producto en el inventario.\n",
    "    def actualizar_stock(self, nombre, cantidad):\n",
    "        for producto in self.inventario:\n",
    "            if producto['nombre'] == nombre:\n",
    "                producto['cantidad'] += cantidad\n",
    "                print(f\"Se ha actualizado el stock de {nombre}: ahora hay {producto['cantidad']} unidades\")\n",
    "            else:\n",
    "                print(f\"El producto {nombre} no está en el inventario\")\n",
    "\n",
    "        \"\"\" Instrucciones: acceder a Ejercicio 4 \n",
    "        y ejecutar la acción de actualizar el stock. \n",
    "        RECUERDA EJECUTAR DESDE EL PRINCIPIO\"\"\"\n",
    "\n",
    "    # 5. Creamos una función para eliminar un producto del inventario.\n",
    "    def eliminar_producto(self, nombre):\n",
    "        for producto in self.inventario:\n",
    "            if producto['nombre'] == nombre:\n",
    "                self.inventario.remove(producto) \n",
    "                # Usamos .remove para eliminar de \n",
    "                print(f\"Producto eliminado: {nombre}\")\n",
    "            else:\n",
    "                 print(f\"El producto {nombre} no está en el inventario\")  \n",
    "\n",
    "        \"\"\" Instrucciones: acceder a Ejercicio 5 para llamar a la función \n",
    "        y ejecutar para eliminar un producto\n",
    "        RECUERDA EJECUTAR DESDE EL PRINCIPIO\"\"\"\n",
    "\n",
    "    # 6. Creamos una función que nos permita calcular y mostrar el valor total del inventario.\n",
    "    def valor_inventario(self):\n",
    "        valor_total = 0\n",
    "        valor_camisas = 0 # Creando nuevos atributos\n",
    "        valor_calcetines = 0\n",
    "\n",
    "        for producto in self.inventario:\n",
    "            total_producto = producto['precio'] * producto['cantidad']\n",
    "            valor_total += total_producto\n",
    "\n",
    "            if producto['nombre'].lower() == 'camisa':\n",
    "                valor_camisas += total_producto\n",
    "            elif producto['nombre'].lower() == 'calcetines':\n",
    "                valor_calcetines += total_producto\n",
    "            \n",
    "        print(f\"El valor total de las camisas es: {valor_camisas} $\")\n",
    "        print(f\"El valor total de los calcetines es: {valor_calcetines} $\")\n",
    "        print(f\"El valor total del inventario es: {valor_total} $\")\n",
    "        \n",
    "        return valor_total\n",
    "    \"\"\" Instrucciones: acceder a Ejercicio 5 para llamar a la función \n",
    "    y ejecutar para eliminar un producto\n",
    "    RECUERDA EJECUTAR DESDE EL PRINCIPIO\"\"\"\n",
    "\n",
    "    \n",
    "        \n",
    "    \n",
    "\n"
   ]
  },
  {
   "cell_type": "markdown",
   "metadata": {},
   "source": [
    "Parte 1"
   ]
  },
  {
   "cell_type": "code",
   "execution_count": 266,
   "metadata": {},
   "outputs": [
    {
     "name": "stdout",
     "output_type": "stream",
     "text": [
      "Se ha añadido un nuevo producto: camisa: 50 unidades, precio unitario 20 $\n",
      "Se ha añadido un nuevo producto: pantalon: 30 unidades, precio unitario 30 $\n",
      "Se ha añadido un nuevo producto: zapatos: 40 unidades, precio unitario 50 $\n",
      "----------------------------\n",
      "Se ha actualizado camisa: 50 unidades añadidas, precio total 20 $\n"
     ]
    }
   ],
   "source": [
    "tienda = TiendaOnline()\n",
    "tienda.agregar_producto('camisa', 20, 50)\n",
    "tienda.agregar_producto('pantalon', 30, 30)\n",
    "tienda.agregar_producto('zapatos', 50, 40)\n",
    "\n",
    "print(\"----------------------------\")\n",
    "# Ahora agregamos un producto repetido\n",
    "tienda.agregar_producto('camisa', 20, 50)"
   ]
  },
  {
   "cell_type": "markdown",
   "metadata": {},
   "source": [
    "Parte 2"
   ]
  },
  {
   "cell_type": "code",
   "execution_count": 267,
   "metadata": {},
   "outputs": [
    {
     "name": "stdout",
     "output_type": "stream",
     "text": [
      "Inventario de productos:\n",
      "Producto: camisa, Precio: 20 $, Cantidad: 100 unidades\n",
      "El inventario de productos es: {'nombre': 'camisa', 'precio': 20, 'cantidad': 100}\n",
      "Producto: pantalon, Precio: 30 $, Cantidad: 30 unidades\n",
      "El inventario de productos es: {'nombre': 'pantalon', 'precio': 30, 'cantidad': 30}\n",
      "Producto: zapatos, Precio: 50 $, Cantidad: 40 unidades\n",
      "El inventario de productos es: {'nombre': 'zapatos', 'precio': 50, 'cantidad': 40}\n",
      "----------------------------\n"
     ]
    }
   ],
   "source": [
    "tienda.ver_inventario()\n",
    "print(\"----------------------------\")\n"
   ]
  },
  {
   "cell_type": "markdown",
   "metadata": {},
   "source": [
    "Parte 3"
   ]
  },
  {
   "cell_type": "code",
   "execution_count": 268,
   "metadata": {},
   "outputs": [
    {
     "name": "stdout",
     "output_type": "stream",
     "text": [
      "Producto encontrado: camisa, sus detalles son {'nombre': 'camisa', 'precio': 20, 'cantidad': 100}\n",
      "Producto no encontrado: camisa\n",
      "Producto no encontrado: camisa\n",
      "----------------------------\n"
     ]
    }
   ],
   "source": [
    "tienda.buscar_producto('camisa')\n",
    "print(\"----------------------------\")"
   ]
  },
  {
   "cell_type": "markdown",
   "metadata": {},
   "source": [
    "Parte 4"
   ]
  },
  {
   "cell_type": "code",
   "execution_count": 269,
   "metadata": {},
   "outputs": [
    {
     "name": "stdout",
     "output_type": "stream",
     "text": [
      "El producto pantalon no está en el inventario\n",
      "Se ha actualizado el stock de pantalon: ahora hay 40 unidades\n",
      "El producto pantalon no está en el inventario\n",
      "----------------------------\n",
      "El producto wtf no está en el inventario\n",
      "El producto wtf no está en el inventario\n",
      "El producto wtf no está en el inventario\n"
     ]
    }
   ],
   "source": [
    "tienda.actualizar_stock('pantalon', 10)\n",
    "print(\"----------------------------\")\n",
    "tienda.actualizar_stock('wtf', 10)"
   ]
  },
  {
   "cell_type": "markdown",
   "metadata": {},
   "source": [
    " Parte 5"
   ]
  },
  {
   "cell_type": "code",
   "execution_count": 270,
   "metadata": {},
   "outputs": [
    {
     "name": "stdout",
     "output_type": "stream",
     "text": [
      "El producto zapatos no está en el inventario\n",
      "El producto zapatos no está en el inventario\n",
      "Producto eliminado: zapatos\n",
      "----------------------------\n",
      "El producto who no está en el inventario\n",
      "El producto who no está en el inventario\n"
     ]
    }
   ],
   "source": [
    "tienda.eliminar_producto('zapatos')\n",
    "print(\"----------------------------\")\n",
    "tienda.eliminar_producto('who')"
   ]
  },
  {
   "cell_type": "markdown",
   "metadata": {},
   "source": [
    "Parte 6"
   ]
  },
  {
   "cell_type": "code",
   "execution_count": 271,
   "metadata": {},
   "outputs": [
    {
     "name": "stdout",
     "output_type": "stream",
     "text": [
      "----------------------------\n",
      "Se ha añadido un nuevo producto: camisa: 5 unidades, precio unitario 5 $\n",
      "Se ha añadido un nuevo producto: Calcetines: 10 unidades, precio unitario 1 $\n",
      "Inventario de productos:\n",
      "Producto: camisa, Precio: 5 $, Cantidad: 5 unidades\n",
      "El inventario de productos es: {'nombre': 'camisa', 'precio': 5, 'cantidad': 5}\n",
      "Producto: Calcetines, Precio: 1 $, Cantidad: 10 unidades\n",
      "El inventario de productos es: {'nombre': 'Calcetines', 'precio': 1, 'cantidad': 10}\n",
      "----------------------------\n",
      "El valor total de las camisas es: 25 $\n",
      "El valor total de los calcetines es: 10 $\n",
      "El valor total del inventario es: 35 $\n"
     ]
    },
    {
     "data": {
      "text/plain": [
       "35"
      ]
     },
     "execution_count": 271,
     "metadata": {},
     "output_type": "execute_result"
    }
   ],
   "source": [
    "tienda = TiendaOnline()\n",
    "print(\"----------------------------\")\n",
    "tienda.agregar_producto(\"camisa\", 5, 5)\n",
    "tienda.agregar_producto(\"Calcetines\", 1, 10)\n",
    "tienda.ver_inventario()\n",
    "\n",
    " # Ahora muestra el valor total del inventario\n",
    "print(\"----------------------------\")\n",
    "tienda.valor_inventario()"
   ]
  },
  {
   "cell_type": "markdown",
   "metadata": {},
   "source": [
    "## BONUS"
   ]
  },
  {
   "cell_type": "code",
   "execution_count": 284,
   "metadata": {},
   "outputs": [
    {
     "ename": "IndentationError",
     "evalue": "unindent does not match any outer indentation level (<string>, line 17)",
     "output_type": "error",
     "traceback": [
      "\u001b[1;36m  File \u001b[1;32m<string>:17\u001b[1;36m\u001b[0m\n\u001b[1;33m    for producto in self.inventario:\u001b[0m\n\u001b[1;37m                                    ^\u001b[0m\n\u001b[1;31mIndentationError\u001b[0m\u001b[1;31m:\u001b[0m unindent does not match any outer indentation level\n"
     ]
    }
   ],
   "source": [
    "# Vamos a elaborar un diccionario de los clientes de la tienda online\n",
    "# Utilizaremos el método de agregar_cliente para registrar nuevos clientes.\n",
    "# El método ver_clientes para mostrar la lista\n",
    "# Y el método registrar_compra para añadir compras al historial de cada cliente.\n",
    "class TiendaOnline:\n",
    "    \n",
    "    def __init__ (self):\n",
    "        self.inventario = [] # Lista vacía para almacenar productos\n",
    "        self.ventas_totales = 0.0 # Las ventas parten de 0\n",
    "        self.clientes = {} #  Diccionario vacío para añadir clientes\n",
    "    \n",
    "    def agregar_producto(self, nombre, precio, cantidad):\n",
    "        # Usamos de referencia el ejercicio anterior\n",
    "             \"\"\"Agrega un producto al inventario o \n",
    "                actualiza la cantidad\"\"\"\n",
    "             \n",
    "        for producto in self.inventario:\n",
    "            if producto['nombre'] == nombre:\n",
    "                producto['cantidad'] += cantidad  \n",
    "                producto['precio'] = precio\n",
    "                print(f\"Se ha actualizado {nombre}:{cantidad} unidades a {precio} $\")\n",
    "                return\n",
    "        nuevo_producto = {'nombre': nombre, 'precio': precio, 'cantidad': cantidad}\n",
    "        self.inventario.append(nuevo_producto)\n",
    "    print(f'Se ha actualizado {nombre}: {cantidad} unidades a {precio} $')\n"
   ]
  }
 ],
 "metadata": {
  "kernelspec": {
   "display_name": "base",
   "language": "python",
   "name": "python3"
  },
  "language_info": {
   "codemirror_mode": {
    "name": "ipython",
    "version": 3
   },
   "file_extension": ".py",
   "mimetype": "text/x-python",
   "name": "python",
   "nbconvert_exporter": "python",
   "pygments_lexer": "ipython3",
   "version": "3.12.7"
  }
 },
 "nbformat": 4,
 "nbformat_minor": 2
}
