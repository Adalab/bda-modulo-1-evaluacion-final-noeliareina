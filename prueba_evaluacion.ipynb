{
 "cells": [
  {
   "cell_type": "markdown",
   "metadata": {},
   "source": [
    "## Ejercicio 1"
   ]
  },
  {
   "cell_type": "code",
   "execution_count": null,
   "metadata": {},
   "outputs": [],
   "source": [
    "class TiendaOnline:\n",
    "    \"\"\"TiendaOnline class tiene atributos(inventario y ventas totales)\"\"\"\n",
    "    def __init__(self, inventario, ventas_totales):\n",
    "        self.inventario = {} #lista vacía y las ventas totales en 0\n",
    "        print(\"Inventario inicial:\", )\n",
    "        self.ventas_totales = 0.0 #ventas totales en 0\n",
    "    def agregar_producto(self, nombre, precio, cantidad):\n",
    "        inventario[producto] = nombre\n"
   ]
  }
 ],
 "metadata": {
  "kernelspec": {
   "display_name": "base",
   "language": "python",
   "name": "python3"
  },
  "language_info": {
   "codemirror_mode": {
    "name": "ipython",
    "version": 3
   },
   "file_extension": ".py",
   "mimetype": "text/x-python",
   "name": "python",
   "nbconvert_exporter": "python",
   "pygments_lexer": "ipython3",
   "version": "3.12.7"
  }
 },
 "nbformat": 4,
 "nbformat_minor": 2
}
