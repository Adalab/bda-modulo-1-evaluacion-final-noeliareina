{
 "cells": [
  {
   "cell_type": "markdown",
   "metadata": {},
   "source": [
    "Ejercicio"
   ]
  },
  {
   "cell_type": "code",
   "execution_count": null,
   "metadata": {},
   "outputs": [],
   "source": [
    "class TiendaOnline:\n",
    "    \"\"\"TiendaOnline class con inventario y ventas totales\"\"\"\n",
    "\n",
    "    def __init__(self):\n",
    "        self.inventario = []  # lista vacía para almacenar productos\n",
    "        self.ventas_totales = 0.0  # ventas totales en que inician en 0\n",
    "        self.valor_camisas = 0 # Creando nuevos atributos\n",
    "        self.valor_calcetines = 0\n",
    "        \n",
    "    # 1. Creamos una función para agregar productos al inventario\n",
    "    def agregar_producto(self, nombre, precio, cantidad):\n",
    "        \"\"\"Agrega un producto al inventario o actualiza su cantidad y precio\"\"\"\n",
    "    \n",
    "        for producto in self.inventario:\n",
    "        # Iteramos sobre el inventario para ver si el producto ya existe\n",
    "            if producto['nombre'] == nombre:\n",
    "                ##### Actualiza cantidad y precio del producto existente\n",
    "                producto['cantidad'] += cantidad  \n",
    "                producto['precio'] += precio  #El precio se suma al precio existente\n",
    "                print(f\"Se ha actualizado {nombre}: {cantidad} unidades añadidas, precio total {producto['precio']} $\")\n",
    "                return\n",
    "                # Detiene la función si el producto ya existe     \n",
    "               \n",
    "        # Si el producto no existe, lo agregamos como nuevo\n",
    "        nuevo_producto = {'nombre': nombre, 'precio': precio, 'cantidad': cantidad}\n",
    "        self.inventario.append(nuevo_producto)\n",
    "        print(f\"Es añadido un nuevo producto: {nombre}: {cantidad} unidades, precio unitario {precio} $\")\n",
    "        \n",
    "\n",
    "    # 2. Creamos una función para ver el inventario de productos con sus detalles.\n",
    "    def ver_inventario(self):  \n",
    "        if not self.inventario:\n",
    "            print(\"El inventario está vacío\")\n",
    "            return\n",
    "        print(\"Inventario de productos:\")\n",
    "        for producto in self.inventario:\n",
    "            print(f\"Producto: {producto['nombre']}, Precio: {producto['precio']} $, Cantidad: {producto['cantidad']} unidades\")\n",
    "            print(f\"El inventario de productos es: {producto}\")\n",
    "\n",
    "    # 3. Creamos una función para buscar productos por su nombre en el inventario.\n",
    "    # Queremos que nos muestren los detalles.\n",
    "    def buscar_producto(self, nombre):\n",
    "        for producto in self.inventario:\n",
    "            if producto['nombre'] == nombre:\n",
    "                print(f\"Producto encontrado: {nombre}, sus detalles son {producto}\")\n",
    "                return producto # Devuelve el producto si lo encuentra      \n",
    "        print(f\"Producto no encontrado: {nombre}\")\n",
    "    \n",
    "    # 4. Creamos una función para actualizar el stock de un producto en el inventario.\n",
    "    def actualizar_stock(self, nombre, cantidad):\n",
    "        for producto in self.inventario:\n",
    "            if producto['nombre'] == nombre:\n",
    "                producto['cantidad'] += cantidad\n",
    "                print(f\"Se ha actualizado el stock de {nombre}: ahora hay {producto['cantidad']} unidades\")\n",
    "                return\n",
    "    \n",
    "            print(f\"El producto {nombre} no está en el inventario\")\n",
    "\n",
    "    # 5. Creamos una función para eliminar un producto del inventario.\n",
    "    def eliminar_producto(self, nombre):\n",
    "        for producto in self.inventario:\n",
    "            if producto['nombre'] == nombre:\n",
    "                self.inventario.remove(producto)\n",
    "                print(f\"Producto eliminado: {nombre}\")\n",
    "                return\n",
    "            \n",
    "        print(f\"El producto {nombre} no está en el inventario\")  \n",
    "\n",
    "    # 6. Creamos una función que nos permita calcular y mostrar el valor total del inventario.\n",
    "    def valor_inventario(self):\n",
    "        valor_total = 0\n",
    "        valor_camisas = 0 # Creando nuevos atributos\n",
    "        valor_calcetines = 0\n",
    "\n",
    "        for producto in self.inventario:\n",
    "            total_producto = producto['precio'] * producto['cantidad']\n",
    "            valor_total += total_producto\n",
    "\n",
    "            if producto['nombre'] == 'camisa':\n",
    "                valor_camisas += total_producto\n",
    "            elif producto['nombre'] == 'calcetines':\n",
    "                valor_calcetines += total_producto\n",
    "            \n",
    "        print(f\"El valor total de las camisas es: {valor_camisas} $\")\n",
    "        print(f\"El valor total de los calcetines es: {valor_calcetines} $\")\n",
    "        print(f\"El valor total del inventario es: {valor_total} $\")\n",
    "        \n",
    "        return valor_total\n"
   ]
  },
  {
   "cell_type": "markdown",
   "metadata": {},
   "source": [
    "## Ejercicio 1"
   ]
  },
  {
   "cell_type": "code",
   "execution_count": 178,
   "metadata": {},
   "outputs": [
    {
     "name": "stdout",
     "output_type": "stream",
     "text": [
      "Es añadido un nuevo producto: camisa: 50 unidades, precio unitario 20 $\n",
      "Es añadido un nuevo producto: pantalon: 30 unidades, precio unitario 30 $\n",
      "Es añadido un nuevo producto: zapatos: 40 unidades, precio unitario 50 $\n",
      "Se ha actualizado camisa: 50 unidades añadidas, precio total 40 $\n"
     ]
    }
   ],
   "source": [
    "# Añadimos de nuevo la instancia de la tienda\n",
    "tienda = TiendaOnline()\n",
    "\n",
    "# Agregamos productos al inventario\n",
    "tienda.agregar_producto('camisa', 20, 50)\n",
    "tienda.agregar_producto('pantalon', 30, 30)\n",
    "tienda.agregar_producto('zapatos', 50, 40)\n",
    "\n",
    "# Ahora agregamos un producto repetido\n",
    "tienda.agregar_producto('camisa', 20, 50)"
   ]
  },
  {
   "cell_type": "markdown",
   "metadata": {},
   "source": [
    "## Ejercicio 2"
   ]
  },
  {
   "cell_type": "code",
   "execution_count": 179,
   "metadata": {},
   "outputs": [
    {
     "name": "stdout",
     "output_type": "stream",
     "text": [
      "Inventario de productos:\n",
      "Producto: camisa, Precio: 40 $, Cantidad: 100 unidades\n",
      "El inventario de productos es: {'nombre': 'camisa', 'precio': 40, 'cantidad': 100}\n",
      "Producto: pantalon, Precio: 30 $, Cantidad: 30 unidades\n",
      "El inventario de productos es: {'nombre': 'pantalon', 'precio': 30, 'cantidad': 30}\n",
      "Producto: zapatos, Precio: 50 $, Cantidad: 40 unidades\n",
      "El inventario de productos es: {'nombre': 'zapatos', 'precio': 50, 'cantidad': 40}\n"
     ]
    }
   ],
   "source": [
    "# Ahora queremos que nos muestre el inventario de productos con sus valores actuales\n",
    "tienda.ver_inventario()"
   ]
  },
  {
   "cell_type": "markdown",
   "metadata": {},
   "source": [
    "## Ejercicio 3"
   ]
  },
  {
   "cell_type": "code",
   "execution_count": 180,
   "metadata": {},
   "outputs": [
    {
     "name": "stdout",
     "output_type": "stream",
     "text": [
      "Producto encontrado: camisa, sus detalles son {'nombre': 'camisa', 'precio': 40, 'cantidad': 100}\n"
     ]
    },
    {
     "data": {
      "text/plain": [
       "{'nombre': 'camisa', 'precio': 40, 'cantidad': 100}"
      ]
     },
     "execution_count": 180,
     "metadata": {},
     "output_type": "execute_result"
    }
   ],
   "source": [
    "tienda.buscar_producto('camisa')"
   ]
  },
  {
   "cell_type": "markdown",
   "metadata": {},
   "source": [
    "## Ejercicio 4"
   ]
  },
  {
   "cell_type": "code",
   "execution_count": 181,
   "metadata": {},
   "outputs": [
    {
     "data": {
      "text/plain": [
       "{'inventario': [],\n",
       " 'ventas_totales': 0.0,\n",
       " 'valor_camisas': 0,\n",
       " 'valor_calcetines': 0}"
      ]
     },
     "execution_count": 181,
     "metadata": {},
     "output_type": "execute_result"
    }
   ],
   "source": [
    "# Añadimos de nuevo la instancia de la tienda\n",
    "tienda = TiendaOnline()\n",
    "# Ahora queremos actualizar el stock de un producto existente. \n",
    "tienda.actualizar_stock('pantalon', 10)\n",
    "tienda.actualizar_stock('wtf', 10)\n",
    "tienda.__dict__"
   ]
  },
  {
   "cell_type": "markdown",
   "metadata": {},
   "source": [
    "## Ejercicio 5"
   ]
  },
  {
   "cell_type": "code",
   "execution_count": 183,
   "metadata": {},
   "outputs": [
    {
     "name": "stdout",
     "output_type": "stream",
     "text": [
      "El producto zapatos no está en el inventario\n",
      "El producto who no está en el inventario\n"
     ]
    }
   ],
   "source": [
    "# Añadimos de nuevo la instancia de la tienda\n",
    "tienda = TiendaOnline()\n",
    "\n",
    "# Lo siguiente es conseguir eliminar un producto del inventario. El procedimiento es similar.\n",
    "tienda.eliminar_producto('zapatos')\n",
    "tienda.__dict__\n",
    "tienda.eliminar_producto('who')"
   ]
  },
  {
   "cell_type": "markdown",
   "metadata": {},
   "source": [
    "## Ejercicio 6"
   ]
  },
  {
   "cell_type": "code",
   "execution_count": 184,
   "metadata": {},
   "outputs": [
    {
     "name": "stdout",
     "output_type": "stream",
     "text": [
      "Es añadido un nuevo producto: camisa: 5 unidades, precio unitario 5 $\n",
      "Es añadido un nuevo producto: calcetines: 10 unidades, precio unitario 1 $\n",
      "El valor total de las camisas es: 25 $\n",
      "El valor total de los calcetines es: 10 $\n",
      "El valor total del inventario es: 35 $\n",
      "El valor de camisetas es: 0 $\n",
      "El valor de calcetines es: 0 $\n",
      "El valor total de las camisas es: 25 $\n",
      "El valor total de los calcetines es: 10 $\n",
      "El valor total del inventario es: 35 $\n",
      "El valor total del inventario es: 35 $\n"
     ]
    }
   ],
   "source": [
    "# Añadimos de nuevo la instancia de la tienda\n",
    "tienda = TiendaOnline()\n",
    "# Vamos a calcular y mostrar el valor del inventario.\n",
    "tienda.agregar_producto('camisa', 5, 5)\n",
    "tienda.agregar_producto('calcetines', 1, 10)\n",
    "tienda.__dict__\n",
    "# Queremos calcular el valor del inventario y obtener los valores\n",
    "tienda.valor_inventario()\n",
    "\n",
    "# Ahora queremos que nos muestre el valor de cada producto en el inventario\n",
    "print(f'El valor de camisetas es: {tienda.valor_camisas} $')\n",
    "print(f'El valor de calcetines es: {tienda.valor_calcetines} $')\n",
    "print(f'El valor total del inventario es: {tienda.valor_inventario()} $')"
   ]
  },
  {
   "cell_type": "markdown",
   "metadata": {},
   "source": [
    "## Bonus"
   ]
  }
 ],
 "metadata": {
  "kernelspec": {
   "display_name": "base",
   "language": "python",
   "name": "python3"
  },
  "language_info": {
   "codemirror_mode": {
    "name": "ipython",
    "version": 3
   },
   "file_extension": ".py",
   "mimetype": "text/x-python",
   "name": "python",
   "nbconvert_exporter": "python",
   "pygments_lexer": "ipython3",
   "version": "3.12.7"
  }
 },
 "nbformat": 4,
 "nbformat_minor": 2
}
